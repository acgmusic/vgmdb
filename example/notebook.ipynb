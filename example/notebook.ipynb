{
 "cells": [
  {
   "cell_type": "code",
   "execution_count": 1,
   "id": "5491c6c7",
   "metadata": {},
   "outputs": [],
   "source": [
    "from pyvgmdb.artist import Artist\n",
    "from pyvgmdb.album import Album"
   ]
  },
  {
   "cell_type": "markdown",
   "id": "7063c895",
   "metadata": {},
   "source": [
    "**cautions**: if your need proxy to visit vgmdb, you should set the param `proxies`, or you **should not** set this param!!! \n",
    "\n",
    "param `headers` is not necessary"
   ]
  },
  {
   "cell_type": "markdown",
   "id": "9f6e00e1",
   "metadata": {},
   "source": [
    "# Artist"
   ]
  },
  {
   "cell_type": "code",
   "execution_count": 2,
   "id": "a283d869",
   "metadata": {},
   "outputs": [],
   "source": [
    "artist = Artist(artist_id=656, proxies=7890)"
   ]
  },
  {
   "cell_type": "markdown",
   "id": "0830cea5",
   "metadata": {},
   "source": [
    "get information of all albums "
   ]
  },
  {
   "cell_type": "code",
   "execution_count": 13,
   "id": "244b55cf",
   "metadata": {},
   "outputs": [
    {
     "data": {
      "text/plain": [
       "{'year': '2003',\n",
       " 'albums': [{'date': '04.12',\n",
       "   'album_title': 'first odyssey of fripSide / fripSide',\n",
       "   'album_url': 'https://vgmdb.net/album/93805',\n",
       "   'serve_as': ['Composer, Arranger, Performer, Lyricist']}]}"
      ]
     },
     "execution_count": 13,
     "metadata": {},
     "output_type": "execute_result"
    }
   ],
   "source": [
    "artist.albums[0]"
   ]
  },
  {
   "cell_type": "markdown",
   "id": "2826ff1e",
   "metadata": {},
   "source": [
    "get all album url"
   ]
  },
  {
   "cell_type": "code",
   "execution_count": 14,
   "id": "a3734b7b",
   "metadata": {},
   "outputs": [
    {
     "data": {
      "text/plain": [
       "'https://vgmdb.net/album/93805'"
      ]
     },
     "execution_count": 14,
     "metadata": {},
     "output_type": "execute_result"
    }
   ],
   "source": [
    "artist.get_albums_url_list()[0]"
   ]
  },
  {
   "cell_type": "markdown",
   "id": "4ae2ea97",
   "metadata": {},
   "source": [
    "# Album"
   ]
  },
  {
   "cell_type": "code",
   "execution_count": 18,
   "id": "d4406ab3",
   "metadata": {},
   "outputs": [],
   "source": [
    "album = Album(album_id=93805, proxies=7890)"
   ]
  },
  {
   "cell_type": "markdown",
   "id": "09207f4c",
   "metadata": {},
   "source": [
    "all important information of this album is stored in `album.album_info`  "
   ]
  },
  {
   "cell_type": "code",
   "execution_count": 19,
   "id": "e4e39925",
   "metadata": {},
   "outputs": [
    {
     "data": {
      "text/plain": [
       "dict_keys(['album_id', 'album_basic_info', 'album_credits', 'track_list_info', 'album_notes', 'album_parsed_notes'])"
      ]
     },
     "execution_count": 19,
     "metadata": {},
     "output_type": "execute_result"
    }
   ],
   "source": [
    "album.album_info.keys()"
   ]
  },
  {
   "cell_type": "code",
   "execution_count": 20,
   "id": "9ff5eed3",
   "metadata": {},
   "outputs": [
    {
     "data": {
      "text/plain": [
       "{'album_name_en': 'first odyssey of fripSide / fripSide',\n",
       " 'album_name_ja': 'first odyssey of fripSide / fripSide',\n",
       " 'album_name_ja_latn': 'first odyssey of fripSide / fripSide',\n",
       " 'Catalog Number': ['SCFS-0301 \\r\\n\\r\\n\\r\\n'],\n",
       " 'Barcode': ['4545973002201'],\n",
       " 'Release Date': ['Apr 12, 2003', ' '],\n",
       " 'Publish Format': ['Doujin/Indie  '],\n",
       " 'Release Price': ['2000 ', 'JPY', ' '],\n",
       " 'Media Format': ['CD'],\n",
       " 'Classification': ['Vocal, Remix '],\n",
       " 'Organizations': ['sat-music records \\r\\n']}"
      ]
     },
     "execution_count": 20,
     "metadata": {},
     "output_type": "execute_result"
    }
   ],
   "source": [
    "# not parsed\n",
    "album.album_info['album_basic_info']"
   ]
  },
  {
   "cell_type": "code",
   "execution_count": 21,
   "id": "722d7f08",
   "metadata": {},
   "outputs": [
    {
     "data": {
      "text/plain": [
       "{'Composer': [{'name': 'Satoshi Yaginuma', 'artist_id': '656'}],\n",
       " 'Arranger': [', ',\n",
       "  {'name': 'Satoshi Yaginuma', 'artist_id': '656'},\n",
       "  {'name': 'masa', 'artist_id': '14883'},\n",
       "  {'name': 'HEAVENS WiRE', 'artist_id': '9325'}],\n",
       " 'Performer': [' (',\n",
       "  {'name': 'fripSide', 'artist_id': '1399'},\n",
       "  {'name': 'nao', 'artist_id': '657'},\n",
       "  {'name': 'Satoshi Yaginuma', 'artist_id': '656'},\n",
       "  {'name': 'masa', 'artist_id': '14883'},\n",
       "  {'name': 'HEAVENS WiRE', 'artist_id': '9325'},\n",
       "  {'name': 'a2c', 'artist_id': '1104'}],\n",
       " 'Lyricist': [', ',\n",
       "  {'name': 'Satoshi Yaginuma', 'artist_id': '656'},\n",
       "  {'name': 'nao', 'artist_id': '657'}]}"
      ]
     },
     "execution_count": 21,
     "metadata": {},
     "output_type": "execute_result"
    }
   ],
   "source": [
    "album.album_info['album_credits']"
   ]
  },
  {
   "cell_type": "code",
   "execution_count": 22,
   "id": "fec4fabf",
   "metadata": {
    "scrolled": true
   },
   "outputs": [
    {
     "data": {
      "text/plain": [
       "[{'info_language': 'Japanese',\n",
       "  'track_list': [{'disc_name': 'Disc 1',\n",
       "    'disc_track_list': [{'name': 'introduction', 'time': '1:24'},\n",
       "     {'name': 'distant moon', 'time': '5:07'},\n",
       "     {'name': 'come to mind', 'time': '5:26'},\n",
       "     {'name': 'Love to Sing', 'time': '4:45'},\n",
       "     {'name': 'Colorless fate', 'time': '6:13'},\n",
       "     {'name': 'Your Ocian -azure reproduct mix-', 'time': '5:26'},\n",
       "     {'name': 'be sure… -album mix-', 'time': '5:10'},\n",
       "     {'name': 'bright days', 'time': '5:25'},\n",
       "     {'name': 'in the future -side02-', 'time': '5:56'},\n",
       "     {'name': 'Love to Sing -HEAVENS WiRE RMX-', 'time': '4:57'},\n",
       "     {'name': 'end game', 'time': '4:15'}]}]}]"
      ]
     },
     "execution_count": 22,
     "metadata": {},
     "output_type": "execute_result"
    }
   ],
   "source": [
    "album.album_info['track_list_info']"
   ]
  },
  {
   "cell_type": "markdown",
   "id": "78883725",
   "metadata": {},
   "source": [
    "Unparsed Notes about the album (raw text from vgmdb)"
   ]
  },
  {
   "cell_type": "code",
   "execution_count": 23,
   "id": "90945473",
   "metadata": {},
   "outputs": [
    {
     "data": {
      "text/plain": [
       "'M-01<br />music &amp; arrangement: Satoshi Yaginuma<br /><br />M-02<br />words, music &amp; arrangement: Satoshi Yaginuma<br /><br />M-03<br />words: nao, Satoshi Yaginuma<br />music &amp; arrangement: Satoshi Yaginuma<br /><br />M-04<br />words, music &amp; arrangement: Satoshi Yaginuma<br /><br />M-05 - PC Game &quot;Erica -Senkouban-&quot; Theme Song<br />words: nao<br />music &amp; arrangement: Satoshi Yaginuma<br /><br />M-06<br />words: nao<br />music: Satoshi Yaginuma<br />arrangement: masa (azure)<br /><br />M-07<br />words, music &amp; arrangement: Satoshi Yaginuma<br /><br />M-08<br />words: nao<br />music &amp; arrangement: Satoshi Yaginuma<br /><br />M-09<br />words: nao<br />music &amp; arrangement: Satoshi Yaginuma<br /><br />M-10<br />words &amp; music: Satoshi Yaginuma<br />arrangement: HEAVENS WiRE<br /><br />M-11<br />words, music &amp; arrangement: Satoshi Yaginuma<br /><br />Produced by Satoshi Yaginuma<br /><br />vocals: nao<br />synthesizer programming: Satoshi Yaginuma (except #06: Masahiro Wada (azure), #10: HEAVENS WiRE)<br />guitars: Satoshi Yaginuma (except #06: Atsushi &quot;a2c&quot; Yokoyama)<br />mixed by Satoshi Yaginuma (except #06: Masahiro Wada (azure), #10: HEAVENS WiRE)<br />mastered by Shuta Akimoto'"
      ]
     },
     "execution_count": 23,
     "metadata": {},
     "output_type": "execute_result"
    }
   ],
   "source": [
    "album.album_info['album_notes']"
   ]
  },
  {
   "cell_type": "markdown",
   "id": "283566d5",
   "metadata": {},
   "source": [
    "parsed Notes about the album (use some simple regular matching algorithm to parse the notes, but **not absolutely accurate**)"
   ]
  },
  {
   "cell_type": "code",
   "execution_count": 24,
   "id": "7430bcc8",
   "metadata": {},
   "outputs": [
    {
     "data": {
      "text/plain": [
       "[[{'Composer': None,\n",
       "   'Arranger': ['Satoshi Yaginuma'],\n",
       "   'Vocal': None,\n",
       "   'Lyrics': None},\n",
       "  {'Composer': None,\n",
       "   'Arranger': ['Satoshi Yaginuma'],\n",
       "   'Vocal': None,\n",
       "   'Lyrics': None},\n",
       "  {'Composer': None,\n",
       "   'Arranger': ['Satoshi Yaginuma'],\n",
       "   'Vocal': None,\n",
       "   'Lyrics': ['nao', 'Satoshi Yaginuma']},\n",
       "  {'Composer': None,\n",
       "   'Arranger': ['Satoshi Yaginuma'],\n",
       "   'Vocal': None,\n",
       "   'Lyrics': None},\n",
       "  {'Composer': None,\n",
       "   'Arranger': ['Satoshi Yaginuma'],\n",
       "   'Vocal': None,\n",
       "   'Lyrics': ['nao']},\n",
       "  {'Composer': ['Satoshi Yaginuma'],\n",
       "   'Arranger': ['masa (azure'],\n",
       "   'Vocal': ['mixed by Satoshi Yaginuma (except'],\n",
       "   'Lyrics': ['nao']},\n",
       "  {'Composer': None,\n",
       "   'Arranger': ['Satoshi Yaginuma'],\n",
       "   'Vocal': None,\n",
       "   'Lyrics': None},\n",
       "  {'Composer': None,\n",
       "   'Arranger': ['Satoshi Yaginuma'],\n",
       "   'Vocal': None,\n",
       "   'Lyrics': ['nao']},\n",
       "  {'Composer': None,\n",
       "   'Arranger': ['Satoshi Yaginuma'],\n",
       "   'Vocal': None,\n",
       "   'Lyrics': ['nao']},\n",
       "  {'Composer': None,\n",
       "   'Arranger': ['HEAVENS WiRE'],\n",
       "   'Vocal': ['Masahiro Wada (azure'],\n",
       "   'Lyrics': None},\n",
       "  {'Composer': None,\n",
       "   'Arranger': ['Satoshi Yaginuma'],\n",
       "   'Vocal': None,\n",
       "   'Lyrics': None}]]"
      ]
     },
     "execution_count": 24,
     "metadata": {},
     "output_type": "execute_result"
    }
   ],
   "source": [
    "album.album_info['album_parsed_notes']"
   ]
  }
 ],
 "metadata": {
  "kernelspec": {
   "display_name": "Python 3 (ipykernel)",
   "language": "python",
   "name": "python3"
  },
  "language_info": {
   "codemirror_mode": {
    "name": "ipython",
    "version": 3
   },
   "file_extension": ".py",
   "mimetype": "text/x-python",
   "name": "python",
   "nbconvert_exporter": "python",
   "pygments_lexer": "ipython3",
   "version": "3.9.12"
  }
 },
 "nbformat": 4,
 "nbformat_minor": 5
}
